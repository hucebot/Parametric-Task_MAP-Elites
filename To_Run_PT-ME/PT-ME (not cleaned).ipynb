{
 "cells": [
  {
   "cell_type": "markdown",
   "id": "2e25f3b1-c238-428f-bdf9-7af1b5ad62ac",
   "metadata": {},
   "source": [
    "# Imports"
   ]
  },
  {
   "cell_type": "code",
   "execution_count": 60,
   "id": "607b4d1a-b3f0-49df-a41a-48d56daea3fa",
   "metadata": {},
   "outputs": [],
   "source": [
    "from math import cos, sin, pi, sqrt\n",
    "import math \n",
    "import numpy as np\n",
    "from collections import defaultdict\n",
    "import os\n",
    "from sklearn.cluster import KMeans\n",
    "import pickle \n",
    "from scipy.spatial import distance, cKDTree, Delaunay\n",
    "from sklearn.linear_model import LinearRegression\n",
    "from tqdm import tqdm \n",
    "import random \n",
    "import multiprocessing as mp\n",
    "import matplotlib.pyplot as plt\n",
    "import matplotlib.cm as cm\n",
    "import matplotlib as mpl\n",
    "from scipy.stats import mannwhitneyu\n",
    "import seaborn as sb\n",
    "from matplotlib.patches import Patch, Polygon"
   ]
  },
  {
   "cell_type": "markdown",
   "id": "edfa8023-927c-4ddd-ba03-f32d97a20f3f",
   "metadata": {},
   "source": [
    "# Functions"
   ]
  },
  {
   "cell_type": "markdown",
   "id": "b7ee5951-5dd1-4cd4-bfc2-0395bc921fff",
   "metadata": {
    "toc-hr-collapsed": true
   },
   "source": [
    "## Variation operators"
   ]
  },
  {
   "cell_type": "markdown",
   "id": "4d4de2ae-3fae-4ea4-a01b-7947c58cfaf1",
   "metadata": {},
   "source": [
    "### iso-line-dd"
   ]
  },
  {
   "cell_type": "code",
   "execution_count": 2,
   "id": "4e7641f1-1f37-48ad-b762-482f7a66ba80",
   "metadata": {},
   "outputs": [],
   "source": [
    "def iso_dd(x, y, command_config):\n",
    "    line_sigma, iso_sigma, dim = command_config['line_sigma'], command_config['iso_sigma'], command_config[\"dim\"]\n",
    "    candidate = x + np.random.normal(0, iso_sigma) + np.random.normal(0, line_sigma) * (y-x) \n",
    "    return np.clip(candidate, np.zeros(dim), np.ones(dim))"
   ]
  },
  {
   "cell_type": "markdown",
   "id": "fd83014c-be26-43fd-811d-dbdf48aa2166",
   "metadata": {},
   "source": [
    "### SBX"
   ]
  },
  {
   "cell_type": "code",
   "execution_count": 3,
   "id": "5fb371af-0de7-4e60-a9f3-198c3bd836d6",
   "metadata": {},
   "outputs": [],
   "source": [
    "def sbx(x, y, command_config):\n",
    "    '''\n",
    "    SBX (cf Deb 2001, p 113) Simulated Binary Crossover\n",
    "\n",
    "    A large value ef eta gives a higher probablitity for\n",
    "    creating a `near-parent' solutions and a small value allows\n",
    "    distant solutions to be selected as offspring.\n",
    "    '''\n",
    "    eta = 10 # command_config[\"eta\"] \n",
    "    xl = 0\n",
    "    xu = 1\n",
    "    z = x.copy()\n",
    "    r1 = np.random.random(size=len(x))\n",
    "    r2 = np.random.random(size=len(x))\n",
    "\n",
    "    \n",
    "    for i in range(0, len(x)):\n",
    "        if abs(x[i] - y[i]) > 1e-15:\n",
    "            \n",
    "            x1 = min(x[i], y[i])\n",
    "            x2 = max(x[i], y[i])\n",
    "            \n",
    "            \n",
    "            beta = 1.0 + (2.0 * (x1 - xl) / (x2 - x1))\n",
    "            alpha = 2.0 - beta ** -(eta + 1)\n",
    "            rand = r1[i]\n",
    "            \n",
    "            if rand <= 1.0 / alpha:\n",
    "                beta_q = (rand * alpha) ** (1.0 / (eta + 1))\n",
    "            else:\n",
    "                beta_q = (1.0 / (2.0 - rand * alpha)) ** (1.0 / (eta + 1))\n",
    "\n",
    "            c1 = 0.5 * (x1 + x2 - beta_q * (x2 - x1))\n",
    "\n",
    "            beta = 1.0 + (2.0 * (xu - x2) / (x2 - x1))\n",
    "            alpha = 2.0 - beta ** -(eta + 1)\n",
    "                \n",
    "            if rand <= 1.0 / alpha:\n",
    "                beta_q = (rand * alpha) ** (1.0 / (eta + 1))\n",
    "            else:\n",
    "                beta_q = (1.0 / (2.0 - rand * alpha)) ** (1.0 / (eta + 1))\n",
    "            c2 = 0.5 * (x1 + x2 + beta_q * (x2 - x1))\n",
    "\n",
    "            c1 = min(max(c1, xl), xu)\n",
    "            c2 = min(max(c2, xl), xu)\n",
    "\n",
    "            if r2[i] <= 0.5:\n",
    "                z[i] = c2\n",
    "            else:\n",
    "                z[i] = c1\n",
    "\n",
    "    return z"
   ]
  },
  {
   "cell_type": "markdown",
   "id": "1af3fd54-7483-422f-9fac-51d8564e4a5e",
   "metadata": {},
   "source": [
    "### Local Linear Regression"
   ]
  },
  {
   "cell_type": "code",
   "execution_count": 4,
   "id": "b9d58d6e-0c44-4313-8577-9dd591100ffa",
   "metadata": {},
   "outputs": [],
   "source": [
    "def regression(s, archive, config):\n",
    "    \"\"\" linear regression  \"\"\"\n",
    "    _, idx = archive.tree.query(s, k=1)\n",
    "    indexes = archive.centroid_neighbors[idx]  # find the direct neighbors using the precomputed delauney from the centroids \n",
    "    X = [archive.elites[i][\"situation\"] for i in indexes]\n",
    "    Y = [archive.elites[i][\"command\"] for i in indexes]\n",
    "    reg = LinearRegression().fit(X, Y)\n",
    "    c = reg.predict(np.array([s]))[0] \n",
    "    dim = len(c)\n",
    "    if config[\"regression_mutation_scaling\"]:\n",
    "        return np.clip(c + np.random.normal(0, config[\"linreg_sigma\"]) * np.std(Y, axis=0), np.zeros(dim), np.ones(dim))\n",
    "    else:\n",
    "        return np.clip(c + np.random.normal(0, config[\"linreg_sigma\"]), np.zeros(dim), np.ones(dim))"
   ]
  },
  {
   "cell_type": "code",
   "execution_count": 5,
   "id": "e92293c2-c001-46f3-aed4-3a3aa682a5a1",
   "metadata": {},
   "outputs": [],
   "source": [
    "variation_operators = {\n",
    "    \"iso_dd\": iso_dd,\n",
    "    \"sbx\": sbx,\n",
    "}"
   ]
  },
  {
   "cell_type": "markdown",
   "id": "8cce72c7-b4ca-4923-81c8-479783eee7f7",
   "metadata": {
    "tags": [],
    "toc-hr-collapsed": true
   },
   "source": [
    "## Sampling"
   ]
  },
  {
   "cell_type": "markdown",
   "id": "4ac9f3fb-3db9-4c46-b0fd-89e3a30baffe",
   "metadata": {},
   "source": [
    "### CVT"
   ]
  },
  {
   "cell_type": "code",
   "execution_count": 6,
   "id": "e4b33e8b-2796-4010-bf25-81aa64bb4fb4",
   "metadata": {},
   "outputs": [],
   "source": [
    "def cvt(k, dim, coef=10, verbose=False, rep=0):\n",
    "    root = \"./cvt/\"\n",
    "    name = f\"{int(k)}_{int(dim)}_{rep}.pk\"\n",
    "   \n",
    "    if os.path.exists(root+name):\n",
    "        with open(root+name, \"rb\") as f:\n",
    "            X = pickle.load(f)\n",
    "    else:\n",
    "        x = np.random.rand(k*coef, dim)\n",
    "        k_means = KMeans(init='k-means++', n_clusters=k, n_init=1, verbose=False)#,algorithm=\"full\")\n",
    "        k_means.fit(x)\n",
    "        X = k_means.cluster_centers_\n",
    "        os.makedirs(root)\n",
    "        with open(root+name, \"wb\") as f:\n",
    "            pickle.dump(X, f)\n",
    "    return X"
   ]
  },
  {
   "cell_type": "markdown",
   "id": "14692e0e-3987-4e32-aad1-f8964bbf7eeb",
   "metadata": {},
   "source": [
    "### Parameter task"
   ]
  },
  {
   "cell_type": "code",
   "execution_count": 7,
   "id": "fb546c21-ff80-4185-8a49-a958fb9fe939",
   "metadata": {},
   "outputs": [],
   "source": [
    "def random_task(archive, config):\n",
    "    # s not used \n",
    "    if config[\"continuous\"]:\n",
    "        selected_task = np.random.random(config[\"situation_config\"][\"dim\"])\n",
    "    else:\n",
    "        idx = np.random.randint(0, archive.n_cells)\n",
    "        selected_task = archive.centroids[idx]\n",
    "    return selected_task"
   ]
  },
  {
   "cell_type": "code",
   "execution_count": 8,
   "id": "686d05fe-0121-4c57-9039-db36e06880c9",
   "metadata": {},
   "outputs": [],
   "source": [
    "def closest2parent_tournament(s, archive, config):\n",
    "    k = archive.k_closest2parent\n",
    "    if config[\"continuous\"]:\n",
    "        tasks = np.random.random((k, config[\"situation_config\"][\"dim\"]))\n",
    "        _, indexes = archive.tree.query(tasks, k=1)\n",
    "        situations = [archive.elites[i][\"situation\"] for i in indexes]\n",
    "        distances = distance.cdist(situations, [s], \"euclidean\") \n",
    "        selected_task = tasks[np.argmin(distances)]\n",
    "    else:\n",
    "        indexes = np.random.randint(0, archive.n_cells, k)\n",
    "        situations = [archive.elites[i][\"situation\"] for i in indexes]\n",
    "        distances = distance.cdist(situations, [s], \"euclidean\") \n",
    "        selected_task = situations[np.argmin(distances)]\n",
    "    return selected_task"
   ]
  },
  {
   "cell_type": "markdown",
   "id": "885c7477-d07e-4992-9d60-3d23531c192a",
   "metadata": {},
   "source": [
    "### Solution candidate"
   ]
  },
  {
   "cell_type": "code",
   "execution_count": 9,
   "id": "83ae67d2-246c-4057-98ce-83a1e3fe6cd8",
   "metadata": {},
   "outputs": [],
   "source": [
    "def select_parent(archive): \n",
    "    return archive.elites[np.random.randint(archive.n_cells)]"
   ]
  },
  {
   "cell_type": "code",
   "execution_count": 10,
   "id": "15f42634-edb7-4768-b1a5-8e07e68dae21",
   "metadata": {},
   "outputs": [],
   "source": [
    "def sampler(batch_size, starting_id, archive, config, verbose=0):\n",
    "    command_config, situation_config = config[\"command_config\"], config[\"situation_config\"]\n",
    "    samples, elite_id = [], starting_id\n",
    "    for _ in range(batch_size):        \n",
    "        if np.random.random() < config[\"proba_regression\"]:\n",
    "            s = random_task(archive, config)\n",
    "            c = regression(s, archive, config)\n",
    "            selected_operator = \"regression\"\n",
    "        else:\n",
    "            x, y = select_parent(archive), select_parent(archive)\n",
    "            c = variation_operators[config[\"variation_operator\"]](x[\"command\"], y[\"command\"], command_config)\n",
    "            if config[\"use_closest2parent\"]:\n",
    "                s = closest2parent_tournament(x[\"situation\"], archive, config)\n",
    "                selected_operator = \"sbx_closest2parent\"\n",
    "            else:\n",
    "                s = random_task(archive, config)\n",
    "                selected_operator = \"sbx\"\n",
    "        samples.append((c, s, elite_id, command_config[\"bounds\"], situation_config[\"bounds\"], selected_operator, verbose, config[\"erase\"]))\n",
    "        elite_id += 1 \n",
    "    return samples"
   ]
  },
  {
   "cell_type": "markdown",
   "id": "a219dcf4-d15e-4e25-b0ce-95584463f746",
   "metadata": {},
   "source": [
    "# Toy Problems"
   ]
  },
  {
   "cell_type": "code",
   "execution_count": 11,
   "id": "45a1444b-4f26-462c-a96f-a43d8c62626f",
   "metadata": {},
   "outputs": [],
   "source": [
    "def unwrap(x, bounds):\n",
    "    # [0, 1] -> [low, high]\n",
    "    return x * (bounds[\"high\"]-bounds[\"low\"]) + bounds[\"low\"]\n",
    "\n",
    "def wrap(x, bounds):\n",
    "    # [low, high] -> [0, 1] \n",
    "    return (x - bounds[\"low\"]) / (bounds[\"high\"]-bounds[\"low\"]) "
   ]
  },
  {
   "cell_type": "markdown",
   "id": "53acea29-6121-4564-b79a-a7ea5350dead",
   "metadata": {},
   "source": [
    "## 10-DoF Arm"
   ]
  },
  {
   "cell_type": "code",
   "execution_count": 12,
   "id": "798ec88c-45e2-4416-a9d3-b6deedfb3daa",
   "metadata": {},
   "outputs": [],
   "source": [
    "class Arm:\n",
    "    def __init__(self, lengths):\n",
    "        self.n_dofs = len(lengths)\n",
    "        self.lengths = np.concatenate(([0], lengths))\n",
    "        self.joint_xy = []\n",
    "\n",
    "    def fw_kinematics(self, p):\n",
    "        assert(len(p) == self.n_dofs)\n",
    "        p = np.append(p, 0)\n",
    "        self.joint_xy = []\n",
    "        mat = np.matrix(np.identity(4))\n",
    "        for i in range(0, self.n_dofs + 1):\n",
    "            m = [[cos(p[i]), -sin(p[i]), 0, self.lengths[i]],\n",
    "                 [sin(p[i]),  cos(p[i]), 0, 0],\n",
    "                 [0, 0, 1, 0],\n",
    "                 [0, 0, 0, 1]]\n",
    "            mat = mat * np.matrix(m)\n",
    "            v = mat * np.matrix([0, 0, 0, 1]).transpose()\n",
    "            self.joint_xy += [v[0:2].A.flatten()]\n",
    "        return self.joint_xy[self.n_dofs], self.joint_xy\n",
    "\n",
    "def arm(angles, task):\n",
    "    angular_range = task[0] / len(angles)\n",
    "    lengths = np.ones(len(angles)) * task[1] / len(angles)\n",
    "    target = 0.5 * np.ones(2)\n",
    "    a = Arm(lengths)\n",
    "    # command in\n",
    "    command = (angles - 0.5) * angular_range * math.pi * 2\n",
    "    ef, _ = a.fw_kinematics(command)\n",
    "    f = np.exp(-np.linalg.norm(ef - target))\n",
    "    return f"
   ]
  },
  {
   "cell_type": "code",
   "execution_count": 13,
   "id": "597f385c-5f85-4a5c-be12-318d9126f028",
   "metadata": {},
   "outputs": [],
   "source": [
    "def eval_command_arm_ME(c, s, elite_id, command_bounds, situation_bounds, kind, verbose=0, erase=True):\n",
    "    r = arm(c, s)\n",
    "    evaluation = {\"reward\": r}\n",
    "    evaluation[\"command\"] = c\n",
    "    evaluation[\"situation\"] = s\n",
    "    evaluation[\"id\"] = elite_id\n",
    "    evaluation[\"kind\"] = kind\n",
    "    return evaluation"
   ]
  },
  {
   "cell_type": "markdown",
   "id": "f1bbd305-1e01-4716-861c-19d2a0533070",
   "metadata": {},
   "source": [
    "## Archery"
   ]
  },
  {
   "cell_type": "code",
   "execution_count": 14,
   "id": "332c8a26-1490-43d9-8b62-38dd77a24f93",
   "metadata": {},
   "outputs": [],
   "source": [
    "def compute_archery_situation(n, archery_state_bounds):\n",
    "    res = {}\n",
    "    bounds = {\"low\": [], \"high\": []}\n",
    "    for i in range(n):\n",
    "        for key, bound in archery_state_bounds.items():\n",
    "            bounds[\"low\"].append(bound[\"low\"])\n",
    "            bounds[\"high\"].append(bound[\"high\"])\n",
    "    res[\"bounds\"] = {\"low\": np.array(bounds[\"low\"]), \"high\": np.array(bounds[\"high\"])}\n",
    "    res[\"dim\"] = len(bounds[\"high\"])\n",
    "    return res\n",
    "\n",
    "def compute_archery_command(n, archery_action_config, iso_sigma, line_sigma):\n",
    "    action_bounds = {\"low\": np.concatenate([archery_action_config[\"low\"] for _ in range(n)]), \"high\":  np.concatenate([archery_action_config[\"high\"] for _ in range(n)])}\n",
    "    return {\"bounds\": action_bounds, \"iso_sigma\": iso_sigma, \"line_sigma\": line_sigma, \"dim\": len(action_bounds[\"low\"])}"
   ]
  },
  {
   "cell_type": "code",
   "execution_count": 15,
   "id": "6430d6a1-ac10-4f61-96ef-316430ee0974",
   "metadata": {},
   "outputs": [],
   "source": [
    "def eval_archery(c, s, verbose=0):\n",
    "    n = len(s)//2\n",
    "    assert(n==1)\n",
    "    rewards = {}\n",
    "    for i in range(n):\n",
    "        [yaw, pitch] = c[2*i:2*i+2]\n",
    "        if type(s) == dict:\n",
    "            d = s[f\"d_{i}\"] # distance\n",
    "            w = s[f\"w_{i}\"] # wind\n",
    "        else:\n",
    "            d = s[2*i] # distance\n",
    "            w = s[2*i+1] # wind\n",
    "        v0 = 70\n",
    "        # average velocity of an arrow 70 m.s-1 \n",
    "        # with yaw = 0, pitch = 0.5 * arcsin(g*d/v0**2)\n",
    "        v = v0 * np.array([-np.sin(yaw), np.cos(yaw)*np.cos(pitch), np.cos(yaw) * np.sin(pitch)])\n",
    "        if v[1] <= 0:\n",
    "            rewards[i] = 0\n",
    "        else:\n",
    "            t = d/v[1]\n",
    "            contact = np.array([0.5*w*t**2+v[0]*t, -0.5*9.8*t**2+v[2]*t])\n",
    "            distance = np.linalg.norm(contact)\n",
    "            # 6.1cm rayon par tranche, 10 tranches, 122cm au total\n",
    "            rewards[i] = max(0, int(10-distance//0.061))/10\n",
    "    reward = rewards[0]\n",
    "    return {\"reward\": reward, \"rewards\": rewards}"
   ]
  },
  {
   "cell_type": "code",
   "execution_count": 16,
   "id": "396e2335-6756-45ee-a768-62b5ffd97858",
   "metadata": {},
   "outputs": [],
   "source": [
    "def eval_command_archery_ME(c, s, elite_id, command_bounds, situation_bounds, kind, verbose=0, erase=True):\n",
    "    evaluation = eval_archery(unwrap(c, command_bounds), unwrap(s, situation_bounds), verbose=verbose)\n",
    "    evaluation[\"command\"] = c\n",
    "    evaluation[\"situation\"] = s\n",
    "    evaluation[\"id\"] = elite_id\n",
    "    evaluation[\"kind\"] = kind\n",
    "    return evaluation"
   ]
  },
  {
   "cell_type": "code",
   "execution_count": 17,
   "id": "d703fed9-1a50-45a9-87ca-93a6b07cb124",
   "metadata": {},
   "outputs": [],
   "source": [
    "archery_state_bounds = {\"d\": {\"low\": 5, \"high\": 40}, \"w\": {\"low\": -10, \"high\": 10}}\n",
    "archery_action_bounds = {\"low\": np.array([-np.pi/12, -np.pi/12]), \"high\": np.array([np.pi/12, np.pi/12])}"
   ]
  },
  {
   "cell_type": "markdown",
   "id": "0b735fb3-2b6a-4177-8870-56e6cfcddb58",
   "metadata": {},
   "source": [
    "# Bandit"
   ]
  },
  {
   "cell_type": "code",
   "execution_count": 18,
   "id": "624133d1-2fc0-4761-8b27-7cae81877ab1",
   "metadata": {},
   "outputs": [],
   "source": [
    "class Bandit():\n",
    "    \n",
    "    def __init__(self, values):\n",
    "        self.successes = defaultdict(int)\n",
    "        self.selected = defaultdict(int)\n",
    "        self.log = []\n",
    "        self.values = values\n",
    "        \n",
    "    def update(self, key, success):\n",
    "        self.successes[key] += success\n",
    "        self.selected[key] += 1 \n",
    "        n = 0\n",
    "        for n_value in self.selected.values():\n",
    "            n += n_value\n",
    "\n",
    "        if len(self.successes.keys()) < len(self.values):\n",
    "            k = random.choice(self.values)\n",
    "        else:\n",
    "            ucb = []\n",
    "            for k in self.values:\n",
    "                n_a = self.selected[k]\n",
    "                mean = self.successes[k] / n_a\n",
    "                ucb += [mean +  math.sqrt(2 * math.log(n) / n_a)]\n",
    "            k = self.values[np.argmax(ucb)]\n",
    "            \n",
    "        self.log.append(k)\n",
    "        return k"
   ]
  },
  {
   "cell_type": "markdown",
   "id": "b0e35a35-c9a0-4a0c-8ee9-709a6337cda8",
   "metadata": {},
   "source": [
    "# Archive"
   ]
  },
  {
   "cell_type": "code",
   "execution_count": 19,
   "id": "f7a454ed-a6f4-4681-b14f-9d6f45821776",
   "metadata": {},
   "outputs": [],
   "source": [
    "class Archive():\n",
    "    \n",
    "    def __init__(self, config):\n",
    "        self.situation_config = config[\"situation_config\"]\n",
    "        self.command_config = config[\"command_config\"]\n",
    "        self.eval_command = config[\"eval_command\"]\n",
    "        self.rep = config[\"rep\"]\n",
    "        \n",
    "        self.use_regression = False\n",
    "        self.k_closest2parent = 1\n",
    "        self.tournament_size = None if \"fixed_tournament_size\" not in config else config[\"fixed_tournament_size\"]\n",
    "        self.bandit_values = [1, 5, 10, 50, 100, 500]\n",
    "        if config[\"use_bandit\"]:\n",
    "            self.bandit_closest2parent = BanditWindow(self.bandit_values, config[\"time_window\"]) if config[\"time_window\"] is not None else Bandit(self.bandit_values)\n",
    "        else:\n",
    "            self.bandit_closest2parent = None\n",
    "        \n",
    "        self.log_sampler = []\n",
    "        self.samples = []\n",
    "        self.tmp = []\n",
    "        self.it = 0\n",
    "        self.n_cells = config[\"n_cells\"]\n",
    "        self.create_centroids()\n",
    "        self.tree = cKDTree(self.centroids, leafsize=2)  \n",
    "        self.elites = [None for _ in range(self.n_cells)] \n",
    "        if config[\"verbose\"]>1:\n",
    "            print(\"Initialisation\")\n",
    "        if config[\"parallel\"]:\n",
    "            args = {}\n",
    "            for i in range(self.n_cells):\n",
    "                args[i] = (np.random.rand(self.command_config[\"dim\"]), self.centroids[i], i, self.command_config[\"bounds\"], self.situation_config[\"bounds\"], \"random\")\n",
    "            jobs = make_general_jobs(self.eval_command, args)\n",
    "            res = general_master(jobs, n_processes=n_proc, verbose=config[\"verbose\"])\n",
    "            for key, evaluation in res.items():\n",
    "                self.samples.append(evaluation)\n",
    "                self.it += 1 \n",
    "                self.elites[key] = evaluation\n",
    "        else:\n",
    "            for i in range(self.n_cells):\n",
    "                evaluation = self.eval_command(np.random.rand(self.command_config[\"dim\"]), self.centroids[i], i, self.command_config[\"bounds\"], self.situation_config[\"bounds\"], \"random\")\n",
    "                evaluation[\"it\"] = self.it\n",
    "                self.samples.append(evaluation)\n",
    "                self.it += 1 \n",
    "                self.elites[i] = evaluation\n",
    "\n",
    "    def create_centroids(self):\n",
    "        if self.n_cells <= 10_000:\n",
    "            self.centroids = cvt(self.n_cells, self.situation_config[\"dim\"], rep=self.rep)\n",
    "        else:\n",
    "            self.centroids = np.random.random((self.n_cells, self.situation_config[\"dim\"]))\n",
    "        delauney = Delaunay(self.centroids)\n",
    "        neighbors = [[i] for i in range(self.n_cells)]\n",
    "        for neighborhood in delauney.simplices:\n",
    "            for i in neighborhood:\n",
    "                for j in neighborhood:\n",
    "                    neighbors[i].append(j)\n",
    "                    neighbors[j].append(i)\n",
    "        self.centroid_neighbors = [list(set(n)) for n in neighbors]\n",
    "    \n",
    "    def add_evaluation(self, evaluation):\n",
    "        _, index = self.tree.query(evaluation[\"situation\"], k=1)\n",
    "        evaluation[\"it\"] = self.it \n",
    "        self.samples.append(evaluation)\n",
    "        self.it += 1         \n",
    "        if config[\"use_strict_elite\"]:\n",
    "            is_elite = evaluation[\"reward\"] > self.elites[index][\"reward\"]\n",
    "        else:\n",
    "            is_elite = evaluation[\"reward\"] >= self.elites[index][\"reward\"]\n",
    "        if is_elite:\n",
    "            self.elites[index] = evaluation\n",
    "    \n",
    "        if \"closest2parent\" in evaluation[\"kind\"]:\n",
    "            if self.bandit_closest2parent is not None:\n",
    "                self.k_closest2parent = self.bandit_closest2parent.update(self.k_closest2parent, is_elite)\n",
    "            elif self.tournament_size is not None:\n",
    "                self.k_closest2parent = self.tournament_size\n",
    "            else:\n",
    "                self.k_closest2parent = np.random.choice(self.bandit_values)\n",
    "        return is_elite"
   ]
  },
  {
   "cell_type": "markdown",
   "id": "b4d7c67d-278d-486f-97b1-c06d12542903",
   "metadata": {},
   "source": [
    "# Parametric-Task MAP-Elites "
   ]
  },
  {
   "cell_type": "code",
   "execution_count": 20,
   "id": "24323049-4676-4534-9a51-a7adf675178e",
   "metadata": {},
   "outputs": [],
   "source": [
    "def make_box_jobs(samples, eval_func, verbose=0):\n",
    "    def jobs():\n",
    "        for sample in samples:\n",
    "            yield (eval_func, sample)\n",
    "    return jobs()"
   ]
  },
  {
   "cell_type": "code",
   "execution_count": 21,
   "id": "c196867e-e08f-4d8c-a1fe-c37bf34539f3",
   "metadata": {},
   "outputs": [],
   "source": [
    "def PTME(config):\n",
    "    np.random.seed()\n",
    "    archive = Archive(config)\n",
    "    init_samples = sampler(1, archive.it, archive, config, verbose=config['verbose']) \n",
    "    job_queue = []\n",
    "    for sample in init_samples:\n",
    "        job_queue.append((config[\"eval_command\"], sample))\n",
    "            \n",
    "    if config['verbose'] > 0:\n",
    "        t = tqdm(total=config['budget']-archive.it, ncols=150, smoothing=0.01, mininterval=1, maxinterval=1) \n",
    " \n",
    "    for current_it in range(archive.it, config['budget']):\n",
    "               \n",
    "        # Collect last answer \n",
    "        foo, args = job_queue.pop(0)\n",
    "        evaluation = foo(*args)      \n",
    "        \n",
    "        # update loading bar\n",
    "        if config['verbose'] > 0:\n",
    "            t.update(1)\n",
    "\n",
    "        # update archive\n",
    "        new_elite = archive.add_evaluation(evaluation)\n",
    "                \n",
    "        # stop if reached budget\n",
    "        if current_it == config['budget']-1:\n",
    "            break \n",
    "                   \n",
    "        # put new job \n",
    "        samples = sampler(1, current_it, archive, config, verbose=config['verbose']) \n",
    "        job_queue.append((config[\"eval_command\"], samples[0]))\n",
    "                \n",
    "    if config['verbose'] > 0:\n",
    "        t.close()\n",
    "    return {\"archive\": archive, \"config\": config}"
   ]
  },
  {
   "cell_type": "markdown",
   "id": "4e00f007-5829-4992-a11e-ca222871de4f",
   "metadata": {},
   "source": [
    "# Config"
   ]
  },
  {
   "cell_type": "code",
   "execution_count": 22,
   "id": "aad21828-9c40-4e7e-a381-9eed5ce8ff4b",
   "metadata": {},
   "outputs": [],
   "source": [
    "config = {\n",
    "    # MAP-Elite\n",
    "    \"budget\": 100_000,\n",
    "    \"verbose\": 1,\n",
    "    \"erase\": True,\n",
    "    \"parallel\": False,\n",
    "    \"n_cells\": 200,\n",
    "    \"linreg_sigma\": 1.,\n",
    "    \"regression_mutation_scaling\": True,\n",
    "    \"continuous\": True,\n",
    "    \"proba_regression\": 0.5,\n",
    "    \"use_closest2parent\": True,\n",
    "    \"use_strict_elite\": False,\n",
    "    \"use_bandit\": True,\n",
    "    \"fixed_tournament_size\": None,\n",
    "    \"time_window\": None,\n",
    "    \"variation_operator\": \"sbx\", \n",
    "    \"rep\": 0,\n",
    "}"
   ]
  },
  {
   "cell_type": "markdown",
   "id": "c9737f03-d7a3-4894-a73d-b69271d1f0ef",
   "metadata": {},
   "source": [
    "# Execute"
   ]
  },
  {
   "cell_type": "code",
   "execution_count": null,
   "id": "e1c6dd7f-8159-4c63-8a50-f4246bea878b",
   "metadata": {},
   "outputs": [],
   "source": [
    "env = \"arm\" # choose between \"arm\" and \"archery\"\n",
    "if env == \"archery\":\n",
    "    config[\"eval_command\"] = eval_command_archery_ME\n",
    "    config[\"command_config\"] = compute_archery_command(1, archery_action_bounds, line_sigma=0.2, iso_sigma=0.01)\n",
    "    config[\"situation_config\"] = compute_archery_situation(1, archery_state_bounds)\n",
    "elif env == \"arm\":\n",
    "    config[\"eval_command\"] = eval_command_arm_ME\n",
    "    config[\"command_config\"] =  {\"dim\": 10, \"bounds\": None, \"line_sigma\": 0.2, \"iso_sigma\": 0.01}\n",
    "    config[\"situation_config\"] = {\"dim\": 2, \"bounds\": None}\n",
    "env_names = {'arm': '10-D Arm', \"archery\": \"Archery\", \"talos\": \"Talos Door Opening\"}\n",
    "env_name = env_names[env]"
   ]
  },
  {
   "cell_type": "code",
   "execution_count": 65,
   "id": "0c40c89d-48f9-45a7-b94d-00fdee9814e7",
   "metadata": {},
   "outputs": [
    {
     "name": "stderr",
     "output_type": "stream",
     "text": [
      "100%|█████████████████████████████████████████████████████████████████████████████████████████████████████████| 99800/99800 [01:10<00:00, 1413.89it/s]\n",
      "100%|█████████████████████████████████████████████████████████████████████████████████████████████████████████| 99800/99800 [01:09<00:00, 1431.29it/s]\n",
      "100%|█████████████████████████████████████████████████████████████████████████████████████████████████████████| 99800/99800 [01:09<00:00, 1440.10it/s]\n",
      "100%|█████████████████████████████████████████████████████████████████████████████████████████████████████████| 99800/99800 [01:09<00:00, 1433.74it/s]\n",
      "100%|█████████████████████████████████████████████████████████████████████████████████████████████████████████| 99800/99800 [01:10<00:00, 1423.65it/s]\n"
     ]
    }
   ],
   "source": [
    "N = 5\n",
    "Res = {}\n",
    "for i in range(N):\n",
    "    Res[i] = PTME(config)"
   ]
  },
  {
   "cell_type": "markdown",
   "id": "b27f4a7a-eb5a-460d-b188-9dc275e586e0",
   "metadata": {},
   "source": [
    "# PLOT"
   ]
  },
  {
   "cell_type": "markdown",
   "id": "9107d4b5-8ea9-4c06-b7a3-b9cdb41f7a79",
   "metadata": {},
   "source": [
    "## config"
   ]
  },
  {
   "cell_type": "code",
   "execution_count": 66,
   "id": "0d08a02e-4ebb-49b5-91fd-fab1d065d448",
   "metadata": {},
   "outputs": [],
   "source": [
    "linestyles = [\n",
    "       (0, (1, 1)), #    ('dotted',  \n",
    "       (0, (5, 5)),  #      ('dashed',             \n",
    "       (0, (3, 5, 1, 5)),  #      ('dashdotted',           \n",
    "       (0, (3, 5, 1, 5, 1, 5)),  #     ('dashdotdotted',      \n",
    "       (5, (10, 3)),  #      ('long dash with offset', \n",
    "    \n",
    "       (0, (5, 1)),  #     ('densely dashed',     \n",
    "       (0, (3, 1, 1, 1)),  #      ('densely dashdotted',  \n",
    "       (0, (3, 1, 1, 1, 1, 1)),  #      ('densely dashdotdotted', \n",
    "\n",
    "       (0, (1, 10)), #      ('loosely dotted',        \n",
    "       (0, (5, 10)),  #      ('loosely dashed',       \n",
    "       (0, (3, 10, 1, 10)),  #      ('loosely dashdotted',    \n",
    "       (0, (3, 10, 1, 10, 1, 10)),  #      ('loosely dashdotdotted',\n",
    "] "
   ]
  },
  {
   "cell_type": "markdown",
   "id": "a4f0f528-29d9-4cf8-a8e9-086a82d58731",
   "metadata": {},
   "source": [
    "## functions"
   ]
  },
  {
   "cell_type": "code",
   "execution_count": 67,
   "id": "6622669d-47d0-492e-b270-434dc76a5fb0",
   "metadata": {},
   "outputs": [],
   "source": [
    "def general_master(jobs, n_processes=1, verbose=1, batch_size=None):\n",
    "    if batch_size is None:\n",
    "        return general_master_batch(jobs, n_processes, verbose)\n",
    "    else:\n",
    "        batches = []\n",
    "        for i in range(int(np.ceil(len(jobs)/batch_size))):\n",
    "            batches.append(general_master_batch(jobs[i*batch_size:(i+1)*batch_size], n_processes, verbose))\n",
    "\n",
    "        Res = {}\n",
    "        for batch in batches:\n",
    "            for key, val in batch.items():\n",
    "                Res[key] = val\n",
    "        \n",
    "        return Res "
   ]
  },
  {
   "cell_type": "code",
   "execution_count": 68,
   "id": "f14c6050-d1de-4f6b-bf8a-841d6fc38ce9",
   "metadata": {},
   "outputs": [],
   "source": [
    "def make_general_jobs(foo, args):\n",
    "    jobs = []\n",
    "    for name, arg in args.items():\n",
    "        jobs.append((foo, name, arg))\n",
    "    return jobs\n",
    "\n",
    "def general_worker(job_queue, res_queue):\n",
    "    while True:\n",
    "        job = job_queue.get()\n",
    "        if job == \"Done\":\n",
    "            break\n",
    "        else:\n",
    "            f, name, arg = job\n",
    "            if type(arg) == tuple:\n",
    "                res_queue.put((name, f(*arg)))\n",
    "            elif type(arg) == dict:\n",
    "                res_queue.put((name, f(**arg)))\n",
    "            else:\n",
    "                res_queue.put(None)\n",
    "\n",
    "def general_master_batch(jobs, n_processes=1, verbose=1):\n",
    "    if len(jobs) == 1:\n",
    "        for job in jobs:\n",
    "            f, name, arg = job\n",
    "            if type(arg) == tuple:\n",
    "                return {name: f(*arg)}\n",
    "            elif type(arg) == dict:\n",
    "                return {name: f(**arg)}\n",
    "            \n",
    "    job_queue = mp.Queue()\n",
    "    res_queue = mp.Queue()\n",
    "    n_processes = min(n_processes, len(jobs))\n",
    "    pool = mp.Pool(n_processes, general_worker, (job_queue, res_queue))\n",
    "\n",
    "    for job in jobs:\n",
    "        job_queue.put(job)\n",
    "\n",
    "    for _ in range(n_processes):\n",
    "        job_queue.put(\"Done\")\n",
    "    \n",
    "    res = {}\n",
    "    for i in (tqdm(range(len(jobs)), smoothing=0.) if verbose else range(len(jobs))):\n",
    "        name, out = res_queue.get()\n",
    "        res[name] = out\n",
    "        \n",
    "    pool.terminate()\n",
    "    return res "
   ]
  },
  {
   "cell_type": "code",
   "execution_count": 69,
   "id": "3e8675bf-1503-45bd-a9ef-9590d940c1a6",
   "metadata": {},
   "outputs": [],
   "source": [
    "def open_pickle(path):\n",
    "    if os.path.exists(path):\n",
    "        with open(path, \"rb\") as f:\n",
    "            res = pickle.load(f)\n",
    "        return res "
   ]
  },
  {
   "cell_type": "code",
   "execution_count": 70,
   "id": "1a5a146a-ffde-4a8a-aad1-5de4d09ce894",
   "metadata": {},
   "outputs": [],
   "source": [
    "def compute_cell_min_max(step_size):\n",
    "    cells_min = defaultdict(list)\n",
    "    cells_max = defaultdict(list)\n",
    "    for key in arm_min.keys():\n",
    "        ckey = tuple([int(x) for x in np.array(arm_min[key][\"s\"])/step_size])\n",
    "        cells_min[ckey].append(arm_min[key][\"r\"])\n",
    "        cells_max[ckey].append(arm_max[key][\"r\"])\n",
    "    for key in cells_min.keys():\n",
    "        cells_min[key] = np.min(cells_min[key])\n",
    "        cells_max[key] = np.max(cells_max[key])\n",
    "    return cells_min, cells_max"
   ]
  },
  {
   "cell_type": "code",
   "execution_count": 71,
   "id": "f7733273-e235-4c30-ab09-29f0d20b4c9a",
   "metadata": {},
   "outputs": [],
   "source": [
    "def compute_qd_score(res, resolutions):\n",
    "    qd_score = {}\n",
    "    for step_size in resolutions:\n",
    "        cells = defaultdict(list)\n",
    "        if env in [\"talos\", \"arm\"]:\n",
    "            cells_min, cells_max = cells_min_max[step_size]\n",
    "        for i in range(len(res[\"archive\"].samples)):\n",
    "            key = tuple([int(x) for x in res[\"archive\"].samples[i][\"situation\"]/step_size])\n",
    "            cells[key].append(res[\"archive\"].samples[i][\"reward\"])\n",
    "        for key in cells.keys():\n",
    "            if env == \"arm\":\n",
    "                cells[key] = (np.max(cells[key])-cells_min[key])/(cells_max[key]-cells_min[key])\n",
    "            elif env == \"talos\":\n",
    "                cells[key] = (np.max(cells[key])-cells_min)/(cells_max-cells_min)\n",
    "            else:\n",
    "                cells[key] = np.max(cells[key])\n",
    "        qd_score[step_size] = sum((x for x in cells.values())) * step_size**len(key)\n",
    "    return qd_score"
   ]
  },
  {
   "cell_type": "code",
   "execution_count": 72,
   "id": "9b3d1e7c-6dcc-4959-bd69-6af1f0f4cb2c",
   "metadata": {},
   "outputs": [],
   "source": [
    "def plot_with_spread(data, names, X, colors=cm.rainbow, lw=3, alpha=0.3, line_styles=None, plot_fst_variance=True, plot_snd_variance=False):\n",
    "    \"\"\"\n",
    "    dim0: different methods\n",
    "    dim1: abscice \n",
    "    dim2: replication \n",
    "    \"\"\"\n",
    "    line_styles = [\"-\"] * len(data) if line_styles is None else line_styles\n",
    "    for i, Y in enumerate(data):\n",
    "        median = [np.median(y) for y in Y]\n",
    "        q_05 =  [np.quantile(y, 0.05) for y in Y] \n",
    "        q_25 =  [np.quantile(y, 0.25) for y in Y] \n",
    "        q_75 =  [np.quantile(y, 0.75) for y in Y] \n",
    "        q_95 =  [np.quantile(y, 0.95) for y in Y] \n",
    "        color = colors[i] if type(colors) == list else int_to_color(i, len(data), cmap=colors)\n",
    "        x = X[i]\n",
    "        plt.plot(x, median, lw=lw, color=color, ls=line_styles[i], label=names[i])\n",
    "        if plot_fst_variance:\n",
    "            plt.fill_between(x, q_25, q_75 , color=color, alpha=alpha)\n",
    "        if plot_snd_variance:\n",
    "            plt.fill_between(x, q_05, q_95 , color=color, alpha=0.3*alpha)\n",
    "    if len(data) > 1:\n",
    "        plt.legend()"
   ]
  },
  {
   "cell_type": "code",
   "execution_count": 73,
   "id": "a171db13-2011-4db5-a533-e6baac56f5eb",
   "metadata": {},
   "outputs": [],
   "source": [
    "def int_to_color(i, vmax, vmin=0, cmap=cm.gist_rainbow):\n",
    "    norm = mpl.colors.Normalize(vmin=vmin, vmax=vmax)\n",
    "    cmap = cm.ScalarMappable(norm=norm, cmap=cmap)\n",
    "    return cmap.to_rgba(i)"
   ]
  },
  {
   "cell_type": "code",
   "execution_count": 74,
   "id": "3d35c475-b1e5-406d-ab7c-a96ae5e8652a",
   "metadata": {},
   "outputs": [],
   "source": [
    "def truncate(f, n):\n",
    "    '''Truncates/pads a float f to n decimal places without rounding'''\n",
    "    s = '{}'.format(f)\n",
    "    if 'e' in s or 'E' in s:\n",
    "        return '{0:.{1}f}'.format(f, n)\n",
    "    i, p, d = s.partition('.')\n",
    "    return '.'.join([i, (d+'0'*n)[:n]])\n",
    "\n",
    "def compute_test(data, coef=1, N=5):\n",
    "    pairs = []\n",
    "    for i in range(N-1):\n",
    "        for j in range(i+1,N):\n",
    "            pairs.append((i,j))\n",
    "    res = []\n",
    "    cells = [[ '' for _ in range(N-1)] for _ in range(N-1)]\n",
    "    for (param1,param2) in pairs:\n",
    "        data1 = np.array(data[param1])\n",
    "        data2 = np.array(data[param2])\n",
    "        stat, p_t = mannwhitneyu(data1,data2)  # mannwhitneyu does not make the normal hypothesis \n",
    "        p_t = p_t*coef\n",
    "        mean1 = np.median(data1)\n",
    "        mean2 = np.median(data2)\n",
    "        if mean2 != 0:\n",
    "            ratio = mean1/mean2\n",
    "            d = truncate(ratio, 2)\n",
    "            if d=='0.00' or d=='-0.00':\n",
    "                d = truncate(ratio, 3)\n",
    "                if d=='0.000' or d=='-0.000':\n",
    "                    d = truncate(ratio, 4)\n",
    "        else:\n",
    "            d = \"∞\"\n",
    "                \n",
    "        if p_t < 0.001:\n",
    "            res.append((param1, param2, '***'))\n",
    "            cells[param1][N-1-param2] = d + '\\n***'\n",
    "        elif p_t < 0.01:\n",
    "            res.append((param1, param2, '**'))\n",
    "            cells[param1][N-1-param2] = d + '\\n**'\n",
    "        elif p_t < 0.05:\n",
    "            res.append((param1, param2, '*'))\n",
    "            cells[param1][N-1-param2] = d + '\\n*'\n",
    "        else:\n",
    "            res.append((param1, param2, \"ns\"))\n",
    "            cells[param1][N-1-param2] = \"ns\"\n",
    "    return res, cells"
   ]
  },
  {
   "cell_type": "code",
   "execution_count": 75,
   "id": "f6f41012-3078-4523-a7b3-b425994f650d",
   "metadata": {},
   "outputs": [],
   "source": [
    "def plot_boxplot(data, names, ylabel=\"performance\", ylim=None, title=\"\", log=False, bbox=(1.13,0.1,0.5,0.9), cmap=cm.gist_rainbow, figsize=(16,9), fig=None, ax=None,\n",
    "                 correction=True, rotation=0, use_table=True, use_stick=False, swarmsize=7, force_swarm=False, swarmdata=None, colors=None):\n",
    "    N = len(data)\n",
    "    stat, cells = compute_test(data, coef=3*N*(N-1)/2 if correction else 1, N=N)\n",
    "    if fig is None or ax is None:\n",
    "        fig, ax = plt.subplots(figsize=figsize)\n",
    "    \n",
    "    bp = ax.boxplot(x=data, positions=range(N))\n",
    "    colors = [int_to_color(i, N, cmap=cmap) for i in range(N)] if colors is None else colors \n",
    "    \n",
    "    if np.size(data) <= 100*N or force_swarm:\n",
    "        sb.swarmplot(data=swarmdata if swarmdata is not None else data, color='black', edgecolor='black', size=swarmsize, dodge=True)\n",
    "    plt.grid(axis='y')\n",
    "    if True:\n",
    "        for i in range(0, len(bp['boxes'])):\n",
    "            bp['boxes'][i].set_color(colors[i])\n",
    "            # we have two whiskers!\n",
    "            bp['whiskers'][i*2].set_color(colors[i])\n",
    "            bp['whiskers'][i*2 + 1].set_color(colors[i])\n",
    "            bp['whiskers'][i*2].set_linewidth(2)\n",
    "            bp['whiskers'][i*2 + 1].set_linewidth(2)\n",
    "            # fliers\n",
    "            # (set allows us to set many parameters at once)\n",
    "            bp['fliers'][i].set(markerfacecolor=colors[i],\n",
    "                           marker='o', alpha=0.75, markersize=6,\n",
    "                           markeredgecolor='none')\n",
    "            bp['medians'][i].set_color('black')\n",
    "            bp['medians'][i].set_linewidth(3)\n",
    "            # and 4 caps to remove\n",
    "            for c in bp['caps']:\n",
    "                c.set_linewidth(0)\n",
    "\n",
    "        for i in range(len(bp['boxes'])):\n",
    "            box = bp['boxes'][i]\n",
    "            box.set_linewidth(0)\n",
    "            boxX = []\n",
    "            boxY = []\n",
    "            for j in range(5):\n",
    "                boxX.append(box.get_xdata()[j])\n",
    "                boxY.append(box.get_ydata()[j])\n",
    "                boxCoords = list(zip(boxX,boxY))\n",
    "                boxPolygon = Polygon(boxCoords, facecolor = colors[i], linewidth=0)\n",
    "                ax.add_patch(boxPolygon)\n",
    "        \n",
    "        \n",
    "    if use_table:\n",
    "        rows = names[:N-1]\n",
    "        columns = [names[i] for i in range(N-1,0,-1)]\n",
    "        cell_text = cells\n",
    "        cellColours = [['white' if N-1-i>j else 'lightgrey' for j in range(N-1)] for i in range(N-1) ]\n",
    "        the_table = plt.table(cellText=cell_text,\n",
    "                              rowLabels=rows,\n",
    "                              cellColours= cellColours,\n",
    "                              rowColours=colors[:N-1],\n",
    "                              colColours=[ colors[i] for i in range(N-1,0,-1)],\n",
    "                              colLabels=columns,\n",
    "                              cellLoc = 'center',\n",
    "                              bbox=bbox)\n",
    "    if use_stick and N == 2:\n",
    "        maxi, mini = np.max(data), np.min(data)\n",
    "        top, bot, toptop = maxi + (maxi-mini)*0.05, maxi + (maxi-mini)*0.02, maxi + (maxi-mini)*0.06\n",
    "        plt.plot([0,0,1,1], [bot, top, top, bot], color =\"black\")\n",
    "        plt.text(s=stat[0][2], x=0.5, y=toptop, ha=\"center\")\n",
    "    plt.xticks(range(N), names, rotation=rotation)\n",
    "    if log:\n",
    "        plt.yscale('log')\n",
    "    if not ylim is None:\n",
    "        plt.ylim(ylim)\n",
    "    plt.ylabel(ylabel)\n",
    "    plt.title(title)"
   ]
  },
  {
   "cell_type": "markdown",
   "id": "0a37f5b9-f5d7-466f-ad96-2d11fd899f0f",
   "metadata": {},
   "source": [
    "## Execute"
   ]
  },
  {
   "cell_type": "code",
   "execution_count": 76,
   "id": "d1b1f461-85fd-4ea9-a3d0-6b96a228963c",
   "metadata": {},
   "outputs": [],
   "source": [
    "arm_min = open_pickle(\"./data/arm_minimum.pk\")\n",
    "arm_max = open_pickle(\"./data/arm_maximum.pk\")"
   ]
  },
  {
   "cell_type": "code",
   "execution_count": 77,
   "id": "211a4472-41ca-4cd4-906a-b7431a6efc85",
   "metadata": {},
   "outputs": [],
   "source": [
    "env_dim = 3 if env == \"talos\" else 2\n",
    "\n",
    "resolutions = []\n",
    "for x in [1/int(x) for x in np.logspace(0, 5/env_dim, 50)]:\n",
    "    if x not in resolutions:\n",
    "        resolutions.append(x)"
   ]
  },
  {
   "cell_type": "code",
   "execution_count": 78,
   "id": "98447a1e-143c-4fb3-b262-707a38adeaf0",
   "metadata": {},
   "outputs": [
    {
     "name": "stderr",
     "output_type": "stream",
     "text": [
      "100%|████████████████████████████████████████████████████| 5/5 [00:23<00:00,  4.66s/it]\n"
     ]
    }
   ],
   "source": [
    "if env == \"arm\":\n",
    "    cells_min_max = {}\n",
    "    for x in resolutions:\n",
    "        cells_min_max[x] = compute_cell_min_max(x)\n",
    "\n",
    "batch_size = 50\n",
    "Args = {}\n",
    "for j in range(int(np.ceil(len(Res)/batch_size))):\n",
    "    args = {}\n",
    "    for i in range(j*batch_size, min((j+1)*batch_size, len(Res))):\n",
    "        args[i] = (Res[i], resolutions)\n",
    "    Args[j] = args \n",
    "    \n",
    "QD_scores = {}\n",
    "for j, args in Args.items():\n",
    "    jobs = make_general_jobs(compute_qd_score, args)\n",
    "    QD_scores[j] = general_master(jobs, 50, 1)"
   ]
  },
  {
   "cell_type": "code",
   "execution_count": 79,
   "id": "cce63957-de86-4d6b-a870-ea2de52fc3d5",
   "metadata": {},
   "outputs": [
    {
     "name": "stderr",
     "output_type": "stream",
     "text": [
      "100%|████████████████████████████████████████████████████| 5/5 [00:00<00:00, 29.68it/s]\n"
     ]
    }
   ],
   "source": [
    "for key, res in tqdm(Res.items()):\n",
    "    j = 0\n",
    "    while key not in QD_scores[j]:\n",
    "        j +=1\n",
    "    res[\"density_coverage\"] = [QD_scores[j][key][N] for N in resolutions]"
   ]
  },
  {
   "cell_type": "code",
   "execution_count": 80,
   "id": "d5b23d13-938d-4c93-9bc1-af12b4249ed6",
   "metadata": {},
   "outputs": [],
   "source": [
    "qd_score_PT_ME = {}\n",
    "qd_score_PT_ME[\"PT-ME\"] = np.array([Res[i][\"density_coverage\"] for i in range(len(Res))]).transpose()"
   ]
  },
  {
   "cell_type": "code",
   "execution_count": 88,
   "id": "b5563694-5b95-4ffa-9424-2319097750e1",
   "metadata": {},
   "outputs": [],
   "source": [
    "if env == \"archery\":\n",
    "    reference = open_pickle(\"./data/archery_qdscore.pk\")\n",
    "else:\n",
    "    reference = open_pickle(\"./data/arm_qdscore.pk\")\n",
    "    reference['PT-ME (50% regression / 50% closest2parent sbx)'] = reference['PT-ME (50% regression / 50% closest2parent sbx)'][:, :5]\n",
    "qd_score_PT_ME[\"PT-ME (ref)\"] = reference['PT-ME (50% regression / 50% closest2parent sbx)']"
   ]
  },
  {
   "cell_type": "code",
   "execution_count": 89,
   "id": "186c728c-f1c8-4f20-88ab-7c6d7baa40f0",
   "metadata": {},
   "outputs": [
    {
     "data": {
      "text/plain": [
       "Text(0.5, 1.0, 'QD-Score 10-D Arm')"
      ]
     },
     "execution_count": 89,
     "metadata": {},
     "output_type": "execute_result"
    },
    {
     "data": {
      "image/png": "[encoded data removed]",
      "text/plain": [
       "<Figure size 2304x648 with 1 Axes>"
      ]
     },
     "metadata": {
      "needs_background": "light"
     },
     "output_type": "display_data"
    }
   ],
   "source": [
    "data, labels, X = [], [], []\n",
    "line_styles = []\n",
    "\n",
    "for j, (name, qd_score) in enumerate(qd_score_PT_ME.items()):\n",
    "    data.append(qd_score)\n",
    "    line_styles.append(linestyles[j%len(linestyles)])\n",
    "    labels.append(name)\n",
    "    X.append(1/np.array(resolutions)**2)\n",
    "\n",
    "plt.subplots(figsize=(16*2,9))\n",
    "plt.subplot2grid((1,2), (0,0))\n",
    "plot_with_spread(data, labels, X, cm.tab10, line_styles=line_styles)\n",
    "#plt.xlim((1e3, 1e5))\n",
    "#plt.ylim((0.6,0.8))\n",
    "plt.legend(bbox_to_anchor=(1,1,0,0))\n",
    "plt.xscale(\"log\")\n",
    "plt.xlabel(\"Resolution\")\n",
    "plt.ylabel(f\"QD-Score\")\n",
    "plt.title(f\"QD-Score {env_name}\")\n",
    "#savefig(\"comparison_arm\")"
   ]
  },
  {
   "cell_type": "code",
   "execution_count": 90,
   "id": "ab934f80-b1a5-44ea-99fa-376dbd6f6ef6",
   "metadata": {},
   "outputs": [
    {
     "data": {
      "image/png": "[encoded data removed]",
      "text/plain": [
       "<Figure size 1152x648 with 1 Axes>"
      ]
     },
     "metadata": {
      "needs_background": "light"
     },
     "output_type": "display_data"
    }
   ],
   "source": [
    "datas = [np.mean(X, axis=0) for X in data]\n",
    "plot_boxplot(datas, labels, ylabel=\"Mean QD-Score\", rotation=90, swarmsize=7, figsize=(16,9), use_table=True,)"
   ]
  },
  {
   "cell_type": "code",
   "execution_count": null,
   "id": "9f84ccec-1592-40f8-92f5-e25b936667c8",
   "metadata": {},
   "outputs": [],
   "source": [
    "for i, name in enumerate(labels):\n",
    "    X = datas[i]\n",
    "    print(name, f\"{np.mean(X):1.4f}+/-{np.std(X):1.4f} median:{np.median(X):1.4f} [25%, 75%]=[{np.quantile(X, 0.25):1.4f}, {np.quantile(X, 0.75):1.4f}] [5%, 95%]=[{np.quantile(X, 0.05):1.4f}, {np.quantile(X, 0.95):1.4f}]\")"
   ]
  },
  {
   "cell_type": "code",
   "execution_count": null,
   "id": "8c0a1461-944a-4978-8905-c682b7f76a30",
   "metadata": {},
   "outputs": [],
   "source": []
  }
 ],
 "metadata": {
  "kernelspec": {
   "display_name": "Python 3 (ipykernel)",
   "language": "python",
   "name": "python3"
  },
  "language_info": {
   "codemirror_mode": {
    "name": "ipython",
    "version": 3
   },
   "file_extension": ".py",
   "mimetype": "text/x-python",
   "name": "python",
   "nbconvert_exporter": "python",
   "pygments_lexer": "ipython3",
   "version": "3.9.7"
  },
  "toc-autonumbering": true
 },
 "nbformat": 4,
 "nbformat_minor": 5
}
